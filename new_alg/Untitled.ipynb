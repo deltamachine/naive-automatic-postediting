{
 "cells": [
  {
   "cell_type": "code",
   "execution_count": 1,
   "metadata": {
    "collapsed": true
   },
   "outputs": [],
   "source": [
    "import numpy as np\n",
    "import pandas as pd"
   ]
  },
  {
   "cell_type": "code",
   "execution_count": 6,
   "metadata": {},
   "outputs": [
    {
     "data": {
      "text/html": [
       "<div>\n",
       "<style>\n",
       "    .dataframe thead tr:only-child th {\n",
       "        text-align: right;\n",
       "    }\n",
       "\n",
       "    .dataframe thead th {\n",
       "        text-align: left;\n",
       "    }\n",
       "\n",
       "    .dataframe tbody tr th {\n",
       "        vertical-align: top;\n",
       "    }\n",
       "</style>\n",
       "<table border=\"1\" class=\"dataframe\">\n",
       "  <thead>\n",
       "    <tr style=\"text-align: right;\">\n",
       "      <th></th>\n",
       "      <th>translation</th>\n",
       "      <th>WER</th>\n",
       "    </tr>\n",
       "  </thead>\n",
       "  <tbody>\n",
       "    <tr>\n",
       "      <th>0</th>\n",
       "      <td>кто не работает, тот не ест.</td>\n",
       "      <td>0.00</td>\n",
       "    </tr>\n",
       "    <tr>\n",
       "      <th>1</th>\n",
       "      <td>он *працуе в банке.</td>\n",
       "      <td>25.00</td>\n",
       "    </tr>\n",
       "    <tr>\n",
       "      <th>2</th>\n",
       "      <td>я *чытаў этот роман весь день.</td>\n",
       "      <td>16.67</td>\n",
       "    </tr>\n",
       "    <tr>\n",
       "      <th>3</th>\n",
       "      <td>яна продолжила работать.</td>\n",
       "      <td>66.67</td>\n",
       "    </tr>\n",
       "    <tr>\n",
       "      <th>4</th>\n",
       "      <td>мой отец часто *апавядаў зам о свои школьные *...</td>\n",
       "      <td>55.56</td>\n",
       "    </tr>\n",
       "  </tbody>\n",
       "</table>\n",
       "</div>"
      ],
      "text/plain": [
       "                                         translation    WER\n",
       "0                       кто не работает, тот не ест.   0.00\n",
       "1                                он *працуе в банке.  25.00\n",
       "2                     я *чытаў этот роман весь день.  16.67\n",
       "3                           яна продолжила работать.  66.67\n",
       "4  мой отец часто *апавядаў зам о свои школьные *...  55.56"
      ]
     },
     "execution_count": 6,
     "metadata": {},
     "output_type": "execute_result"
    }
   ],
   "source": [
    "df = pd.read_csv('output.txt', sep='\\t', names=['translation', 'WER'])\n",
    "df.head()"
   ]
  },
  {
   "cell_type": "code",
   "execution_count": 13,
   "metadata": {
    "collapsed": true
   },
   "outputs": [],
   "source": [
    "X = df['translation']\n",
    "y = df['WER'].apply(float)"
   ]
  },
  {
   "cell_type": "code",
   "execution_count": 65,
   "metadata": {},
   "outputs": [
    {
     "data": {
      "text/plain": [
       "(1667, 109392)"
      ]
     },
     "execution_count": 65,
     "metadata": {},
     "output_type": "execute_result"
    }
   ],
   "source": [
    "from sklearn.feature_extraction.text import TfidfVectorizer\n",
    "from scipy import sparse\n",
    "\n",
    "word_vect = TfidfVectorizer(analyzer='word', ngram_range=(1, 5))\n",
    "char_vect = TfidfVectorizer(analyzer='char', ngram_range=(2, 6))\n",
    "\n",
    "X_vect_word = word_vect.fit_transform(X)\n",
    "X_vect_char = char_vect.fit_transform(X)\n",
    "\n",
    "X_vect = sparse.hstack((X_vect_word, X_vect_char))\n",
    "X_vect.shape"
   ]
  },
  {
   "cell_type": "code",
   "execution_count": 66,
   "metadata": {
    "collapsed": true
   },
   "outputs": [],
   "source": [
    "from sklearn.model_selection import train_test_split\n",
    "\n",
    "X_train, X_test, y_train, y_test = train_test_split(X_vect, y, test_size=0.2, random_state=42)"
   ]
  },
  {
   "cell_type": "code",
   "execution_count": null,
   "metadata": {},
   "outputs": [
    {
     "name": "stdout",
     "output_type": "stream",
     "text": [
      "Iteration 1, loss = 1059.29939423\n",
      "Iteration 2, loss = 1041.22631075\n",
      "Iteration 3, loss = 1020.08878670\n",
      "Iteration 4, loss = 996.35815669\n",
      "Iteration 5, loss = 970.24543272\n",
      "Iteration 6, loss = 941.23246934\n",
      "Iteration 7, loss = 909.65314684\n",
      "Iteration 8, loss = 875.77321320\n",
      "Iteration 9, loss = 839.43061267\n",
      "Iteration 10, loss = 802.10482801\n",
      "Iteration 11, loss = 763.17633007\n",
      "Iteration 12, loss = 723.16459118\n",
      "Iteration 13, loss = 683.35653943\n",
      "Iteration 14, loss = 643.37381510\n",
      "Iteration 15, loss = 605.05005349\n",
      "Iteration 16, loss = 567.81104544\n",
      "Iteration 17, loss = 531.25363444\n",
      "Iteration 18, loss = 497.00795431\n",
      "Iteration 19, loss = 465.20632514\n",
      "Iteration 20, loss = 435.34506969\n",
      "Iteration 21, loss = 407.27167971\n",
      "Iteration 22, loss = 381.13535202\n",
      "Iteration 23, loss = 356.95742342\n",
      "Iteration 24, loss = 335.00841724\n",
      "Iteration 25, loss = 314.17447714\n",
      "Iteration 26, loss = 294.36209892\n",
      "Iteration 27, loss = 275.02078291\n",
      "Iteration 28, loss = 256.87475678\n",
      "Iteration 29, loss = 239.27918215\n",
      "Iteration 30, loss = 222.81637031\n",
      "Iteration 31, loss = 207.43053808\n",
      "Iteration 32, loss = 192.57499447\n",
      "Iteration 33, loss = 179.48462459\n",
      "Iteration 34, loss = 166.63040716\n",
      "Iteration 35, loss = 155.11365987\n",
      "Iteration 36, loss = 144.04890684\n",
      "Iteration 37, loss = 134.32790869\n",
      "Iteration 38, loss = 124.75149327\n",
      "Iteration 39, loss = 116.49280172\n",
      "Iteration 40, loss = 108.30407716\n",
      "Iteration 41, loss = 101.08020636\n",
      "Iteration 42, loss = 94.23409459\n",
      "Iteration 43, loss = 87.98006217\n",
      "Iteration 44, loss = 82.07492742\n",
      "Iteration 45, loss = 76.82600147\n",
      "Iteration 46, loss = 71.67739040\n",
      "Iteration 47, loss = 67.28459178\n",
      "Iteration 48, loss = 63.02446763\n",
      "Iteration 49, loss = 58.88141541\n",
      "Iteration 50, loss = 55.47485968\n",
      "Iteration 51, loss = 52.07869232\n",
      "Iteration 52, loss = 48.96723076\n",
      "Iteration 53, loss = 46.04018882\n",
      "Iteration 54, loss = 43.29970933\n",
      "Iteration 55, loss = 40.90080377\n",
      "Iteration 56, loss = 38.57090418\n",
      "Iteration 57, loss = 36.42531888\n",
      "Iteration 58, loss = 34.45842153\n",
      "Iteration 59, loss = 32.58833217\n",
      "Iteration 60, loss = 30.69192490\n",
      "Iteration 61, loss = 29.18637903\n",
      "Iteration 62, loss = 27.53464481\n",
      "Iteration 63, loss = 26.16963657\n",
      "Iteration 64, loss = 24.82886657\n",
      "Iteration 65, loss = 23.56820125\n",
      "Iteration 66, loss = 22.41811712\n",
      "Iteration 67, loss = 21.29385993\n",
      "Iteration 68, loss = 20.25309855\n",
      "Iteration 69, loss = 19.30487148\n",
      "Iteration 70, loss = 18.44213329\n",
      "Iteration 71, loss = 17.60241201\n",
      "Iteration 72, loss = 16.76717240\n",
      "Iteration 73, loss = 16.05405997\n",
      "Iteration 74, loss = 15.36682370\n"
     ]
    }
   ],
   "source": [
    "from sklearn.metrics import mean_squared_error as mse\n",
    "from math import sqrt\n",
    "from sklearn.neural_network import MLPRegressor\n",
    "\n",
    "mlp = MLPRegressor(solver='adam', max_iter=200, random_state=42, verbose=True)\n",
    "\n",
    "mlp.fit(X_train, y_train)"
   ]
  },
  {
   "cell_type": "code",
   "execution_count": 63,
   "metadata": {},
   "outputs": [
    {
     "name": "stdout",
     "output_type": "stream",
     "text": [
      "23.599058727916447\n"
     ]
    }
   ],
   "source": [
    "y_pred = mlp.predict(X_test)\n",
    "\n",
    "score = sqrt(mse(y_test, y_pred))\n",
    "print(score)"
   ]
  },
  {
   "cell_type": "code",
   "execution_count": 64,
   "metadata": {},
   "outputs": [
    {
     "name": "stdout",
     "output_type": "stream",
     "text": [
      "940     20.00\n",
      "987     20.00\n",
      "405      0.00\n",
      "721     66.67\n",
      "1612    25.00\n",
      "Name: WER, dtype: float64\n",
      "[ 29.46628404  25.03106322  21.36611111  58.37441193  11.55677338]\n"
     ]
    }
   ],
   "source": [
    "print(y_test[:5])\n",
    "print(y_pred[:5])"
   ]
  }
 ],
 "metadata": {
  "kernelspec": {
   "display_name": "Python 3",
   "language": "python",
   "name": "python3"
  },
  "language_info": {
   "codemirror_mode": {
    "name": "ipython",
    "version": 3
   },
   "file_extension": ".py",
   "mimetype": "text/x-python",
   "name": "python",
   "nbconvert_exporter": "python",
   "pygments_lexer": "ipython3",
   "version": "3.6.3"
  }
 },
 "nbformat": 4,
 "nbformat_minor": 2
}
